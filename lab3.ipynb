{
 "cells": [
  {
   "cell_type": "code",
   "execution_count": 4,
   "metadata": {},
   "outputs": [
    {
     "name": "stdout",
     "output_type": "stream",
     "text": [
      "['sona', '2347258', 'agriculturalsector']\n",
      "{'NAME': 'sona', 'rollno': '2347258', 'domain': 'agriculturalsector'}\n"
     ]
    }
   ],
   "source": [
    "def datastring(splitString):\n",
    "    x=splitString.split(\"__\")\n",
    "    SPLITdICT={\"NAME\":x[0],\"rollno\":x[1],\"domain\":x[2]}\n",
    "    print(x)\n",
    "    print(SPLITdICT)\n",
    "\n",
    "datastring(\"sona__2347258__agriculturalsector\")"
   ]
  }
 ],
 "metadata": {
  "kernelspec": {
   "display_name": "Python 3",
   "language": "python",
   "name": "python3"
  },
  "language_info": {
   "codemirror_mode": {
    "name": "ipython",
    "version": 3
   },
   "file_extension": ".py",
   "mimetype": "text/x-python",
   "name": "python",
   "nbconvert_exporter": "python",
   "pygments_lexer": "ipython3",
   "version": "3.11.4"
  },
  "orig_nbformat": 4
 },
 "nbformat": 4,
 "nbformat_minor": 2
}
